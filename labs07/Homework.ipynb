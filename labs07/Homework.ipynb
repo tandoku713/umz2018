{
 "cells": [
  {
   "cell_type": "markdown",
   "metadata": {},
   "source": [
    "# Zadanie domowe\n",
    "\n",
    "Zadanie domowe polega na zastosowaniu naiwnego klasyfikatora Bayesa na zbiorze danych Gonito: [She said, he said](https://gonito.net/challenge/petite-difference-challenge2). Zadanie polega na zgadnięciu, czy dany tekst został powiedziany przez mężczyznę (M) bądź kobietę (F).\n",
    "\n",
    "Ustawny najpierw ściężkę do katalogu, gdzie został ściągnięty:"
   ]
  },
  {
   "cell_type": "code",
   "execution_count": 1,
   "metadata": {},
   "outputs": [],
   "source": [
    "data_path = \"/home/tomasz/teaching/umz2018/challenges/petite-difference-challenge2\""
   ]
  },
  {
   "cell_type": "markdown",
   "metadata": {},
   "source": [
    "Poniżej jest zaimplementowana funckja do wczytania danych:"
   ]
  },
  {
   "cell_type": "code",
   "execution_count": 3,
   "metadata": {},
   "outputs": [],
   "source": [
    "import gzip\n",
    "import os\n",
    "\n",
    "def read_train_data(path):\n",
    "    x = []\n",
    "    y = []\n",
    "    if path.endswith('.gz'):\n",
    "        with gzip.open(path, 'rt') as data_file:\n",
    "            for line in data_file:\n",
    "                items = line.strip().split('\\t')\n",
    "                if len(items) == 2:\n",
    "                    y.append(items[0])\n",
    "                    x.append(items[1])\n",
    "    return x, y"
   ]
  },
  {
   "cell_type": "markdown",
   "metadata": {},
   "source": [
    "I wczytujemy dane trenujące:"
   ]
  },
  {
   "cell_type": "code",
   "execution_count": 4,
   "metadata": {},
   "outputs": [],
   "source": [
    "train_set_path = os.path.join(data_path, \"train/train.tsv.gz\")\n",
    "\n",
    "train_x, train_y = read_train_data(train_set_path)"
   ]
  },
  {
   "cell_type": "code",
   "execution_count": 5,
   "metadata": {},
   "outputs": [],
   "source": [
    "import logging\n",
    "import numpy as np\n",
    "from optparse import OptionParser\n",
    "import sys\n",
    "from time import time\n",
    "import matplotlib.pyplot as plt\n",
    "\n",
    "from sklearn.feature_extraction.text import HashingVectorizer\n",
    "from sklearn.naive_bayes import BernoulliNB, MultinomialNB\n",
    "from sklearn import metrics"
   ]
  },
  {
   "cell_type": "markdown",
   "metadata": {},
   "source": [
    "**zadanie 1** Wykorzystaj ``HashingVectorizer`` z pakietu `sklearn` do zamiany tekstu na worek słów. Ustaw następujące parametry: `binary=True, norm=None`"
   ]
  },
  {
   "cell_type": "code",
   "execution_count": 8,
   "metadata": {},
   "outputs": [],
   "source": [
    "vectorizer = HashingVectorizer(alternate_sign=False, binary=True, norm=None,\n",
    "                               n_features=10**8)\n",
    "train_x = vectorizer.transform(train_x)"
   ]
  },
  {
   "cell_type": "markdown",
   "metadata": {},
   "source": [
    "**zadanie 2** Wyświetl rozmiar danych treningowych:"
   ]
  },
  {
   "cell_type": "code",
   "execution_count": null,
   "metadata": {},
   "outputs": [],
   "source": []
  },
  {
   "cell_type": "markdown",
   "metadata": {},
   "source": [
    "**zadanie 3** klasa ``MultinomialNB``  zachowuje się w taki sam sposób jak pozostałe klasyfikatory z pakietu ``sklaern``. Zbuduj model klasyfikatora, ustawiając parametr `alpha` na $0.01$"
   ]
  },
  {
   "cell_type": "code",
   "execution_count": 10,
   "metadata": {},
   "outputs": [],
   "source": []
  },
  {
   "cell_type": "markdown",
   "metadata": {},
   "source": [
    "**zadanie 4** Wykrorzystując kod z poprzednich zadań domowych, wczytaj zbiór walidacyjny i zbiór testowy."
   ]
  },
  {
   "cell_type": "code",
   "execution_count": null,
   "metadata": {},
   "outputs": [],
   "source": []
  },
  {
   "cell_type": "markdown",
   "metadata": {},
   "source": [
    "**zadanie 5** Korzystając z zadania 1, przetwórz powyższe zbiory przez `HashingVectorizer`."
   ]
  },
  {
   "cell_type": "code",
   "execution_count": null,
   "metadata": {},
   "outputs": [],
   "source": []
  },
  {
   "cell_type": "markdown",
   "metadata": {},
   "source": [
    "**zadanie 6** Oblicz `accurracy` na zbiorze validacyjnym."
   ]
  },
  {
   "cell_type": "code",
   "execution_count": null,
   "metadata": {},
   "outputs": [],
   "source": []
  },
  {
   "cell_type": "markdown",
   "metadata": {},
   "source": [
    "**zadanie 7** Korzystając z metody `predict`, zaklasyfikuj teksty z zbioru testowego."
   ]
  },
  {
   "cell_type": "code",
   "execution_count": null,
   "metadata": {},
   "outputs": [],
   "source": []
  },
  {
   "cell_type": "markdown",
   "metadata": {},
   "source": [
    "**zadanie 8** Umieść wyniki na gonito!"
   ]
  },
  {
   "cell_type": "code",
   "execution_count": null,
   "metadata": {},
   "outputs": [],
   "source": []
  }
 ],
 "metadata": {
  "kernelspec": {
   "display_name": "Python 3",
   "language": "python",
   "name": "python3"
  },
  "language_info": {
   "codemirror_mode": {
    "name": "ipython",
    "version": 3
   },
   "file_extension": ".py",
   "mimetype": "text/x-python",
   "name": "python",
   "nbconvert_exporter": "python",
   "pygments_lexer": "ipython3",
   "version": "3.6.5"
  }
 },
 "nbformat": 4,
 "nbformat_minor": 2
}
