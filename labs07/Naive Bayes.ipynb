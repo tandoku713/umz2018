{
 "cells": [
  {
   "cell_type": "markdown",
   "metadata": {},
   "source": [
    "# Naiwny klasyfikator Bayesa\n",
    "\n",
    "[Naiwny klasyfikator Bayesa](https://en.wikipedia.org/wiki/Naive_Bayes_classifier) został zaprezentowany na ostatnim wykładzie. Słowo ,,naiwny'' oznacza, że wszystkie cechy wejściowe są od siebie niezależne. W praktyce to założenie nie jest nigdy spełnione, ale cały czas klasyfikator może działać bardzo dobrze."
   ]
  },
  {
   "cell_type": "markdown",
   "metadata": {},
   "source": [
    "Dzisiejsze zajecia będą polegać na implementacji klasyfikatora, którą później wykorzystamy do zbudowania filtra antyspamowego. Filtr antyspamowy to nic innego niż klasyfikator, który próbuje przewidzieć dla danej wiadomości jedną z dwóch klas: *SPAM* lub *NO_SPAM*."
   ]
  },
  {
   "cell_type": "markdown",
   "metadata": {},
   "source": [
    "**zadanie 0** Ściągnij zbiór danych z [link](https://www.dropbox.com/s/g692nz2yx7dlexe/mailbox.tgz?dl=0) i rozpakuj go w katalogu z tym notebookiem. "
   ]
  },
  {
   "cell_type": "code",
   "execution_count": null,
   "metadata": {},
   "outputs": [],
   "source": []
  },
  {
   "cell_type": "markdown",
   "metadata": {},
   "source": [
    "Będziemy reprezentować klasyfikator jako następującą klasę ``NaiveBayes``:\n",
    " * `class_count`: słownik zawierający ile razy dana klasa wystąpiła w zbiorze treningowym\n",
    " * `feature_count`: słownik zawierający informacje ile razy dana cecha współwystąpiła z podaną klasą.\n",
    " * `get_features`: funkcja, która zwróci zbiór cech."
   ]
  },
  {
   "cell_type": "code",
   "execution_count": null,
   "metadata": {},
   "outputs": [],
   "source": [
    "class NaiveBayes:\n",
    "\n",
    "    \"\"\"\n",
    "    Klasa reprezentująca parametry i stan naiwnego klasyfikatora\n",
    "    bayesowskiego.\n",
    "    \"\"\"\n",
    "\n",
    "    def __init__(self, get_features):\n",
    "        self.feature_count = { }\n",
    "        self.class_count = { }\n",
    "        self.get_features = get_features\n"
   ]
  },
  {
   "cell_type": "markdown",
   "metadata": {},
   "source": [
    "**zadanie 1** \n",
    "Napisz funkcję `train(bayes, item, cat)`, która zlicza:\n",
    " * ile razy pojawiła się dana kategoria `cat` oraz\n",
    " * ile razy cechy dokumentu `item` współwystępowały z daną categorią.\n",
    " \n",
    "Funkcja ma korzystać z metody `bayes.get_features(item)`, żeby uzyskać zbiór cech. Należy zwiększać słownik `bayes.feature_count` dla każdej pary cechy i kategorii o jeden. W słowniku `bayes.class_count` należy zliczać, ile dokumentów należy do danej kategorii."
   ]
  },
  {
   "cell_type": "code",
   "execution_count": null,
   "metadata": {},
   "outputs": [],
   "source": []
  },
  {
   "cell_type": "code",
   "execution_count": null,
   "metadata": {},
   "outputs": [],
   "source": []
  },
  {
   "cell_type": "markdown",
   "metadata": {},
   "source": [
    "**zadanie 2**\n",
    "Napisz funkcję `featprob(bayes, feature, category)`, która oblicza prawdopodobieństwo $P(F=f|C=c)$ dla danej cechy (`feature`) i danej kategorii (`category`). Prawodpodobieństwo warunkowe obliczamy, dzieląc liczbę współwystępowania cechy `feature` z kategorią `category` przez liczbę występowania kategorii `category`. Funkcja zwraca prawdopodobieństwo w postaci logarytmu. Jeżeli dana kategoria nie istnieje, zwracamy -1e300 (liczba możliwie bliska $log(0) = -inf$). Jeśli nie istnieje dana cecha (dla danej kategorii), to zwracamy logarytm ilorazu liczby $0.001$ oraz liczby występowania kategorii (wygładzanie). "
   ]
  },
  {
   "cell_type": "code",
   "execution_count": null,
   "metadata": {},
   "outputs": [],
   "source": []
  },
  {
   "cell_type": "markdown",
   "metadata": {},
   "source": [
    "**zadania 3** Napisz funkcję `catprob(bayes, category)`, która oblicza logarytm\n",
    "prawodpodobieństwa $P(C=c)$. Prawdopodobieństwo to obliczamy dzieląc liczbę wystąpień danej kategorii category przez sumę występowań wszystkich kategorii. Jeżeli kategoria nie istnieje należy zwrócić liczbę $-1e300$ (liczba możliwie bliska $log(0) = -inf$)"
   ]
  },
  {
   "cell_type": "code",
   "execution_count": null,
   "metadata": {},
   "outputs": [],
   "source": []
  },
  {
   "cell_type": "markdown",
   "metadata": {},
   "source": [
    "**zadanie 4** Napisz funkcję `docprob(bayes, item, cat)`, która oblicza uogólnioną sumę z równania:\n",
    "$$\n",
    "P(item, cat) = P(cat) \\cdot \\prod_{i = 0}^{n}{P(feature_i|cat)}\n",
    "$$\n",
    "gdzie $feature_i$ jest $i$-tą cechą w dokumencie ``item``."
   ]
  },
  {
   "cell_type": "code",
   "execution_count": null,
   "metadata": {},
   "outputs": [],
   "source": []
  },
  {
   "cell_type": "markdown",
   "metadata": {},
   "source": [
    "**zadanie 5** Napisz funkcję `classify(bayes, item)`, która wykorzystuje funkcję `docprob` do obliczenia największej wartosci $P(category|document)$ dla dokumentu *item*. Należy zwrócić najbardziej prawdopodobną kategorię."
   ]
  },
  {
   "cell_type": "code",
   "execution_count": null,
   "metadata": {},
   "outputs": [],
   "source": []
  },
  {
   "cell_type": "markdown",
   "metadata": {},
   "source": [
    "## Trenowanie filtra antyspamowego\n",
    "\n",
    "Mając zaimplementowany klasyfikator Bayesowski, możemy uruchomić go zbiorze danych z zadania 0. Poniższe dwie funkcje mają charakter pomocniczy:\n",
    " * `getwords`: zwraca listę cech z danego dokumentu\n",
    " * `category`: zwraca klasę (*spam*, *no-spam*) z nazwy dokumentu"
   ]
  },
  {
   "cell_type": "code",
   "execution_count": null,
   "metadata": {},
   "outputs": [],
   "source": [
    "import glob\n",
    "import re\n",
    "\n",
    "def getwords(docname):\n",
    "    \"\"\"Wyznacza zbiór cech (słów).\"\"\"\n",
    "    doc = open(docname).read()\n",
    "    splitter = re.compile('\\\\W*')\n",
    "    words = [s for s in splitter.split(doc)]\n",
    "    return set(words)\n",
    "\n",
    "def category(name):\n",
    "    \"\"\"Zwraca etykietę kategorii.\"\"\"\n",
    "    if \"spm\" in name:\n",
    "        return \"SPAM\"\n",
    "    else:\n",
    "        return \"NO-SPAM\""
   ]
  },
  {
   "cell_type": "markdown",
   "metadata": {},
   "source": [
    "Funkcja `train_model` wczytuje dane i zwraca wytrenowany klasyfikator."
   ]
  },
  {
   "cell_type": "code",
   "execution_count": null,
   "metadata": {},
   "outputs": [],
   "source": [
    "def train_model(directory, verbose=False):\n",
    "    \"\"\"Dokonuje sprawdzenia\"\"\"\n",
    "\n",
    "    trainlist = []\n",
    "    for i in range(1, 9):\n",
    "        trainlist.extend(glob.glob(\"%s/part%d/*\" % (directory, i)))\n",
    "\n",
    "    classifier = NaiveBayes.NaiveBayes(getwords)\n",
    "\n",
    "    if verbose:\n",
    "        print(i, \"\\tTraining classifier\")\n",
    "    for doc in trainlist:\n",
    "        train(classifier, doc, category(doc))\n",
    "\n",
    "    return classifier"
   ]
  },
  {
   "cell_type": "code",
   "execution_count": null,
   "metadata": {},
   "outputs": [],
   "source": [
    "def valid(classifier, directory, part):\n",
    "    correct = 0\n",
    "    total = 0\n",
    "\n",
    "    validlist = []\n",
    "    validlist.extend(glob.glob(\"%s/part%d/*\" % (directory, part)))\n",
    "    for doc in validlist:\n",
    "        bestcat = classify(classifier, doc)\n",
    "        if bestcat == category(doc):\n",
    "            correct += 1\n",
    "        total += 1\n",
    "    return float(correct) / float(total)"
   ]
  },
  {
   "cell_type": "markdown",
   "metadata": {},
   "source": [
    "Trenujemy model:"
   ]
  },
  {
   "cell_type": "code",
   "execution_count": null,
   "metadata": {},
   "outputs": [],
   "source": [
    "model = train_model(\"mailbox\", True)"
   ]
  },
  {
   "cell_type": "markdown",
   "metadata": {},
   "source": [
    "I testujemy go na zbiorze walidacyjnym i testowym:"
   ]
  },
  {
   "cell_type": "code",
   "execution_count": null,
   "metadata": {},
   "outputs": [],
   "source": [
    "print(\"Accuracy-DEV\", valid(model, \"mailbox\", 9))\n",
    "print(\"Accuracy-TEST\", valid(model, \"mailbox\", 10))"
   ]
  },
  {
   "cell_type": "code",
   "execution_count": null,
   "metadata": {},
   "outputs": [],
   "source": []
  }
 ],
 "metadata": {
  "kernelspec": {
   "display_name": "Python 3",
   "language": "python",
   "name": "python3"
  },
  "language_info": {
   "codemirror_mode": {
    "name": "ipython",
    "version": 3
   },
   "file_extension": ".py",
   "mimetype": "text/x-python",
   "name": "python",
   "nbconvert_exporter": "python",
   "pygments_lexer": "ipython3",
   "version": "3.6.5"
  }
 },
 "nbformat": 4,
 "nbformat_minor": 2
}
