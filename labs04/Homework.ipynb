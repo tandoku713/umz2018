{
 "cells": [
  {
   "cell_type": "markdown",
   "metadata": {},
   "source": [
    "Ten arkusz poprowadzi przez zadanie domowe. Oczywiście będziemy korzystać z platformy gonito. Na potrzeby dzisiejszego zadania domowego będziemy korzystać z challange'u [Titanic](https://gonito.net/challenge/titanic), który pojawił się już na pierwszych zajęciach."
   ]
  },
  {
   "cell_type": "markdown",
   "metadata": {},
   "source": [
    "** zad.0 ** Sklonuj repozytorium z gonito."
   ]
  },
  {
   "cell_type": "markdown",
   "metadata": {},
   "source": [
    "** zad.1 ** Ustaw zmienną `repo_path` tak, aby zawierała ścieżkę do repozytorium, np.\n",
    "\n",
    "```\n",
    "repo_path = \"/home/tomasz/repos/titanic\"\n",
    "```"
   ]
  },
  {
   "cell_type": "code",
   "execution_count": 1,
   "metadata": {},
   "outputs": [],
   "source": [
    "repo_path = \"/home/tomasz/teaching/umz2018/challenges/titanic\""
   ]
  },
  {
   "cell_type": "markdown",
   "metadata": {},
   "source": [
    "**zad. 2** Zaimportuj potrzebne biblioteki:\n",
    " * numpy\n",
    " * pandas\n",
    " * matplotlib.pyplot"
   ]
  },
  {
   "cell_type": "code",
   "execution_count": 2,
   "metadata": {},
   "outputs": [],
   "source": []
  },
  {
   "cell_type": "markdown",
   "metadata": {},
   "source": [
    "Wczytajmy dane treningowe:"
   ]
  },
  {
   "cell_type": "code",
   "execution_count": 49,
   "metadata": {},
   "outputs": [],
   "source": [
    "train_data_path = \"{}/train/train.tsv\".format(repo_path)\n",
    "train_data = pd.read_csv(train_data_path, delimiter='\\t')"
   ]
  },
  {
   "cell_type": "markdown",
   "metadata": {},
   "source": [
    "**zad. 3** Będziemy chcieli wytrenować model, który przewidzi czy dana osoba przeżyłaby katastrofę Titanica na podstawie płci i klasy pokoju. Znajdź odpowiednie nazwy kolumn i wpisz je do zmiennych `X_columns` i `y_column` (obie zmienne są listami)."
   ]
  },
  {
   "cell_type": "code",
   "execution_count": 50,
   "metadata": {},
   "outputs": [],
   "source": []
  },
  {
   "cell_type": "markdown",
   "metadata": {},
   "source": [
    "**zad. 4** Klasyfikator *kNN* wymaga, żeby wszystkie cechy wejściowe miały wartości liczbowe. Wykorzystaj metodę ``map`` i słownik ``replace_dict`` do zamiany wartości *male* na 0 i *female* na 1."
   ]
  },
  {
   "cell_type": "code",
   "execution_count": 51,
   "metadata": {},
   "outputs": [],
   "source": [
    "replace_dict = {'male': 0, 'female' : 1}\n",
    "\n"
   ]
  },
  {
   "cell_type": "markdown",
   "metadata": {},
   "source": [
    "Przygowanie danych treningowych: na podstawie danych z `X` będziemy chcieli przewidzieć `y`:"
   ]
  },
  {
   "cell_type": "code",
   "execution_count": 52,
   "metadata": {},
   "outputs": [
    {
     "name": "stdout",
     "output_type": "stream",
     "text": [
      "X shape: (623, 2)\n",
      "Y shape: (623,)\n"
     ]
    }
   ],
   "source": [
    "X = train_data[X_columns].values\n",
    "y = train_data[y_column].values.flatten()\n",
    "\n",
    "print(\"X shape:\", X.shape)\n",
    "print(\"Y shape:\", y.shape)"
   ]
  },
  {
   "cell_type": "markdown",
   "metadata": {},
   "source": [
    "**zad. 5** Zaimportuj `KNeighborsClassifier` z biblioteki `sklearn`."
   ]
  },
  {
   "cell_type": "code",
   "execution_count": 53,
   "metadata": {},
   "outputs": [],
   "source": []
  },
  {
   "cell_type": "markdown",
   "metadata": {},
   "source": [
    "**zad. 6** Stwórz obiekt typu `KNeighborsClassifier` i przypisz do zmiennej `model`."
   ]
  },
  {
   "cell_type": "code",
   "execution_count": 54,
   "metadata": {},
   "outputs": [],
   "source": []
  },
  {
   "cell_type": "markdown",
   "metadata": {},
   "source": [
    "**zad. 7** Wytrenuj model na danych `X` i `y`."
   ]
  },
  {
   "cell_type": "code",
   "execution_count": 55,
   "metadata": {},
   "outputs": [
    {
     "data": {
      "text/plain": [
       "KNeighborsClassifier(algorithm='auto', leaf_size=30, metric='minkowski',\n",
       "           metric_params=None, n_jobs=1, n_neighbors=3, p=2,\n",
       "           weights='uniform')"
      ]
     },
     "execution_count": 55,
     "metadata": {},
     "output_type": "execute_result"
    }
   ],
   "source": []
  },
  {
   "cell_type": "markdown",
   "metadata": {},
   "source": [
    "Wczytajmy zbiór walidacyjny i testowy:"
   ]
  },
  {
   "cell_type": "code",
   "execution_count": 56,
   "metadata": {},
   "outputs": [],
   "source": [
    "valid_data_X = pd.read_csv(\"{}/dev-0/in.tsv\".format(repo_path),\n",
    "                           delimiter='\\t',\n",
    "                           names=train_data.columns[1:])\n",
    "\n",
    "valid_data_y = pd.read_csv(\"{}/dev-0/expected.tsv\".format(repo_path),\n",
    "                           delimiter='\\t',\n",
    "                           names=train_data.columns[:1])"
   ]
  },
  {
   "cell_type": "code",
   "execution_count": 29,
   "metadata": {},
   "outputs": [],
   "source": [
    "test_data_X = pd.read_csv(\"{}/test-A/in.tsv\".format(repo_path),\n",
    "                           delimiter='\\t',\n",
    "                           names=train_data.columns[1:])"
   ]
  },
  {
   "cell_type": "markdown",
   "metadata": {},
   "source": [
    "**zad. 8** Wykonaj podmianę wartoniści *female*/*male* na 1/0 w taki sam sposób, jak zostało zrobione to dla danych trenujących."
   ]
  },
  {
   "cell_type": "code",
   "execution_count": 30,
   "metadata": {},
   "outputs": [],
   "source": []
  },
  {
   "cell_type": "code",
   "execution_count": 31,
   "metadata": {},
   "outputs": [],
   "source": [
    "X_valid = valid_data_X[X_columns].values\n",
    "y_valid = valid_data_y[y_column].values\n",
    "X_test = test_data_X[X_columns].values"
   ]
  },
  {
   "cell_type": "markdown",
   "metadata": {},
   "source": [
    "Wczytaliśmy zbiór walidacyjny do zmiennych `X_valid` i `y_valid` oraz zbiór testowy do `X_test`."
   ]
  },
  {
   "cell_type": "markdown",
   "metadata": {},
   "source": [
    "**zad. 9** Wykorzystaj wyżej wytrenowany model `model` i uruchom go na zbiorze `X_valid` (metoda `predict`). Wynik zapisz do zmiennej `valid_predicted`."
   ]
  },
  {
   "cell_type": "code",
   "execution_count": 32,
   "metadata": {},
   "outputs": [],
   "source": []
  },
  {
   "cell_type": "markdown",
   "metadata": {},
   "source": [
    "**zad. 10** Oblicz metrykę *accuracy* na zbiorze walidacyjnym (wykorzystaj funkcje ``accuracy_score`` z ``sklearn``)."
   ]
  },
  {
   "cell_type": "code",
   "execution_count": 33,
   "metadata": {},
   "outputs": [
    {
     "name": "stdout",
     "output_type": "stream",
     "text": [
      "0.8283582089552238\n"
     ]
    }
   ],
   "source": []
  },
  {
   "cell_type": "markdown",
   "metadata": {},
   "source": [
    "**zad. 11** Znajdź $k$, dla którego klasyfikator *kNN* osiąga najwyższe *accuracy* na zbiorze walidacyjnym."
   ]
  },
  {
   "cell_type": "code",
   "execution_count": null,
   "metadata": {},
   "outputs": [],
   "source": []
  },
  {
   "cell_type": "markdown",
   "metadata": {},
   "source": [
    "**zad. 12** Uruchom model na zbiorze `X_test` i zapisz wyjście do zmiennej `test_predicted`."
   ]
  },
  {
   "cell_type": "code",
   "execution_count": 106,
   "metadata": {},
   "outputs": [],
   "source": []
  },
  {
   "cell_type": "markdown",
   "metadata": {},
   "source": [
    "Zadanie domowe jest prawie skończone. Wystarczy teraz zapisać wyniki do odpowiednich plików."
   ]
  },
  {
   "cell_type": "code",
   "execution_count": 107,
   "metadata": {},
   "outputs": [],
   "source": [
    "pd.Series(valid_predicted.flatten()).to_csv(\"{}/dev-0/out.tsv\".format(repo_path),\n",
    "                                            sep='\\t',\n",
    "                                            index=None)\n",
    "\n",
    "pd.Series(test_predicted.flatten()).to_csv(\"{}/test-A/out.tsv\".format(repo_path),\n",
    "                                           sep='\\t',\n",
    "                                           index=None)"
   ]
  },
  {
   "cell_type": "markdown",
   "metadata": {},
   "source": [
    "**zad. 13** Odpowiednie pliki zostały utworzone i wyniki zostały zapisane. Jedynie co zostało, to dodanie ich do repozytorium i wysłanie ich na gonito. "
   ]
  },
  {
   "cell_type": "markdown",
   "metadata": {},
   "source": [
    "## Koniec\n",
    "\n",
    "Gratulacje, dotarłeś do końca zadania domowego! Pamiętaj, że deadline na wysłanie zadania domowego to niedziela, 15 kwietnia 2018, 23:59!"
   ]
  },
  {
   "cell_type": "code",
   "execution_count": null,
   "metadata": {},
   "outputs": [],
   "source": []
  }
 ],
 "metadata": {
  "kernelspec": {
   "display_name": "Python 3",
   "language": "python",
   "name": "python3"
  },
  "language_info": {
   "codemirror_mode": {
    "name": "ipython",
    "version": 3
   },
   "file_extension": ".py",
   "mimetype": "text/x-python",
   "name": "python",
   "nbconvert_exporter": "python",
   "pygments_lexer": "ipython3",
   "version": "3.6.4"
  }
 },
 "nbformat": 4,
 "nbformat_minor": 2
}
