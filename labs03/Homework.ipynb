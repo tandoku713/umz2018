{
 "cells": [
  {
   "cell_type": "markdown",
   "metadata": {},
   "source": [
    "Ten arkusz poprowadzi przez zadanie domowe. Oczywiście będziemy korzystać z platformy gonito. Na potrzeby dzisiejszego zadania domowego będziemy korzystać z challange'u [mieszkanie3](https://gonito.net/challenge/mieszkania3)."
   ]
  },
  {
   "cell_type": "markdown",
   "metadata": {},
   "source": [
    "** zad.0 ** Sklonuj repozytorium z gonito."
   ]
  },
  {
   "cell_type": "markdown",
   "metadata": {},
   "source": [
    "** zad.1 ** Ustaw zmienną `repo_path` tak, aby zawierała ścieżkę do repozytorium, np.\n",
    "\n",
    "```\n",
    "repo_path = \"/home/tomasz/repos/mieszkania3\"\n",
    "```"
   ]
  },
  {
   "cell_type": "code",
   "execution_count": 9,
   "metadata": {},
   "outputs": [],
   "source": [
    "repo_path = \"\""
   ]
  },
  {
   "cell_type": "markdown",
   "metadata": {},
   "source": [
    "**zad. 2** Zaimportuj potrzebne biblioteki:\n",
    " * numpy\n",
    " * pandas\n",
    " * matplotlib.pyplot"
   ]
  },
  {
   "cell_type": "code",
   "execution_count": 10,
   "metadata": {},
   "outputs": [],
   "source": []
  },
  {
   "cell_type": "markdown",
   "metadata": {},
   "source": [
    "Wczytajmy dane treningowe:"
   ]
  },
  {
   "cell_type": "code",
   "execution_count": 89,
   "metadata": {},
   "outputs": [],
   "source": [
    "train_data_path = \"{}/train/train.tsv\".format(repo_path)\n",
    "train_data = pd.read_csv(train_data_path, delimiter='\\t', encoding='utf-8', engine='python')"
   ]
  },
  {
   "cell_type": "markdown",
   "metadata": {},
   "source": [
    "**zad. 3** Będziemy chcieli wytrenować model, który przewidzi cenę mieszkania na podstawie wielkości i liczby pokoi. Znajdź odpowiednie nazwy kolumn i wpisz je do zmiennych `X_columns` i `y_column` (obie zmienne są listami)."
   ]
  },
  {
   "cell_type": "code",
   "execution_count": 90,
   "metadata": {},
   "outputs": [],
   "source": [
    "X_columns = []\n",
    "y_column = []"
   ]
  },
  {
   "cell_type": "markdown",
   "metadata": {},
   "source": [
    "Przygowanie danych treningowych: na podstawie danych z `X` będziemy chcieli przewidzieć `y`:"
   ]
  },
  {
   "cell_type": "code",
   "execution_count": 91,
   "metadata": {},
   "outputs": [
    {
     "name": "stdout",
     "output_type": "stream",
     "text": [
      "X shape: (4938, 2)\n",
      "Y shape: (4938, 1)\n"
     ]
    }
   ],
   "source": [
    "X = train_data[X_columns].values\n",
    "y = train_data[y_column].values\n",
    "\n",
    "print(\"X shape:\", X.shape)\n",
    "print(\"Y shape:\", y.shape)"
   ]
  },
  {
   "cell_type": "markdown",
   "metadata": {},
   "source": [
    "**zad. 4** Zaimportuj `LinearRegression` z biblioteki `sklearn`."
   ]
  },
  {
   "cell_type": "code",
   "execution_count": 92,
   "metadata": {},
   "outputs": [],
   "source": []
  },
  {
   "cell_type": "markdown",
   "metadata": {},
   "source": [
    "**zad. 5** Stwórz obiekt typu `LinearRegression` i przypisz do zmiennej `model`."
   ]
  },
  {
   "cell_type": "code",
   "execution_count": 93,
   "metadata": {},
   "outputs": [],
   "source": []
  },
  {
   "cell_type": "markdown",
   "metadata": {},
   "source": [
    "**zad. 6** Wytrenuj model na danych `X` i `y`."
   ]
  },
  {
   "cell_type": "code",
   "execution_count": 94,
   "metadata": {},
   "outputs": [
    {
     "data": {
      "text/plain": [
       "LinearRegression(copy_X=True, fit_intercept=True, n_jobs=1, normalize=False)"
      ]
     },
     "execution_count": 94,
     "metadata": {},
     "output_type": "execute_result"
    }
   ],
   "source": []
  },
  {
   "cell_type": "markdown",
   "metadata": {},
   "source": [
    "Wczytajmy zbiór walidacyjny i testowy:"
   ]
  },
  {
   "cell_type": "code",
   "execution_count": 95,
   "metadata": {},
   "outputs": [],
   "source": [
    "valid_data_X = pd.read_csv(\"{}/dev-0/in.tsv\".format(repo_path),\n",
    "                           delimiter='\\t',\n",
    "                           encoding='utf-8',\n",
    "                           engine='python',\n",
    "                           names=train_data.columns[1:])\n",
    "\n",
    "valid_data_y = pd.read_csv(\"{}/dev-0/expected.tsv\".format(repo_path),\n",
    "                           delimiter='\\t',\n",
    "                           encoding='utf-8',\n",
    "                           engine='python',\n",
    "                           names=train_data.columns[:1])\n",
    "\n",
    "X_valid = valid_data_X[X_columns].values\n",
    "y_valid = valid_data_y[y_column].values"
   ]
  },
  {
   "cell_type": "code",
   "execution_count": 104,
   "metadata": {},
   "outputs": [],
   "source": [
    "test_data_X = pd.read_csv(\"{}/test-A/in.tsv\".format(repo_path),\n",
    "                           delimiter='\\t',\n",
    "                           encoding='utf-8',\n",
    "                           engine='python',\n",
    "                           names=train_data.columns[1:])\n",
    "\n",
    "\n",
    "X_test = test_data_X[X_columns].values"
   ]
  },
  {
   "cell_type": "markdown",
   "metadata": {},
   "source": [
    "Wczytaliśmy zbiór walidacyjny do zmiennych `X_valid` i `y_valid` oraz zbiór testowy do `X_test`."
   ]
  },
  {
   "cell_type": "markdown",
   "metadata": {},
   "source": [
    "**zad. 7** Wykorzystaj wyżej wytrenowany model `model` i uruchom go na zbiorze `X_valid` (metoda `predict`). Wynik zapisz do zmiennej `valid_predicted`."
   ]
  },
  {
   "cell_type": "code",
   "execution_count": 98,
   "metadata": {},
   "outputs": [],
   "source": []
  },
  {
   "cell_type": "markdown",
   "metadata": {},
   "source": [
    "**zad. 8** Oblicz metryki $R^2$ i $RMSE$ na zbiorze walidacyjnym."
   ]
  },
  {
   "cell_type": "code",
   "execution_count": 105,
   "metadata": {},
   "outputs": [
    {
     "data": {
      "text/plain": [
       "(487, 2)"
      ]
     },
     "execution_count": 105,
     "metadata": {},
     "output_type": "execute_result"
    }
   ],
   "source": []
  },
  {
   "cell_type": "markdown",
   "metadata": {},
   "source": [
    "**zad. 9** Uruchom model na zbiorze `X_test` i zapisz wyjście do zmiennej `test_predicted`."
   ]
  },
  {
   "cell_type": "code",
   "execution_count": 106,
   "metadata": {},
   "outputs": [],
   "source": []
  },
  {
   "cell_type": "markdown",
   "metadata": {},
   "source": [
    "Zadanie domowe jest prawie skończone. Wystarczy teraz zapisać wyniki do odpowiednich plików."
   ]
  },
  {
   "cell_type": "code",
   "execution_count": 107,
   "metadata": {},
   "outputs": [],
   "source": [
    "pd.Series(valid_predicted.flatten()).to_csv(\"{}/dev-0/out.tsv\".format(repo_path),\n",
    "                                            sep='\\t',\n",
    "                                            index=None)\n",
    "\n",
    "pd.Series(test_predicted.flatten()).to_csv(\"{}/test-A/out.tsv\".format(repo_path),\n",
    "                                           sep='\\t',\n",
    "                                           index=None)"
   ]
  },
  {
   "cell_type": "markdown",
   "metadata": {},
   "source": [
    "**zad. 10** Odpowiednie pliki zostały utworzone i wyniki zostały zapisane. Jedynie co zostało, to dodanie ich do repozytorium i wysłanie ich na gonito. "
   ]
  },
  {
   "cell_type": "markdown",
   "metadata": {},
   "source": [
    "## Koniec\n",
    "\n",
    "Gratulacje, dotarłeś do końca zadania domowego! Pamiętaj, że deadline na wysłanie zadania domowego to niedziela, 8 kwietnia 2018, 23:59!"
   ]
  },
  {
   "cell_type": "code",
   "execution_count": null,
   "metadata": {},
   "outputs": [],
   "source": []
  }
 ],
 "metadata": {
  "kernelspec": {
   "display_name": "Python 3",
   "language": "python",
   "name": "python3"
  },
  "language_info": {
   "codemirror_mode": {
    "name": "ipython",
    "version": 3
   },
   "file_extension": ".py",
   "mimetype": "text/x-python",
   "name": "python",
   "nbconvert_exporter": "python",
   "pygments_lexer": "ipython3",
   "version": "3.6.4"
  }
 },
 "nbformat": 4,
 "nbformat_minor": 2
}
